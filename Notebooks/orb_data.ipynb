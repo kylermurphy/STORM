{
 "cells": [
  {
   "cell_type": "markdown",
   "metadata": {},
   "source": [
    "# Combine Orbit and Omni Data for Future Investigations"
   ]
  },
  {
   "cell_type": "code",
   "execution_count": 1,
   "metadata": {},
   "outputs": [],
   "source": [
    "import pandas as pd\n",
    "import sys\n",
    "import os\n",
    "import glob"
   ]
  },
  {
   "cell_type": "code",
   "execution_count": 2,
   "metadata": {},
   "outputs": [],
   "source": [
    "#add read_io module to current path ()\n",
    "file_path = 'D:\\\\GitHub\\\\DataIO\\\\'\n",
    "sys.path.append(os.path.dirname(file_path))\n",
    "\n",
    "import data_io"
   ]
  },
  {
   "cell_type": "code",
   "execution_count": 3,
   "metadata": {},
   "outputs": [],
   "source": [
    "orb, _ = data_io.image_orb(sdate='2001',local_dir='E:/Data/IMAGE')"
   ]
  },
  {
   "cell_type": "code",
   "execution_count": 4,
   "metadata": {},
   "outputs": [],
   "source": [
    "omni, _ = data_io.load_omni(sdate=orb['DateTime'].min(), edate=orb['DateTime'].max(), res='5m')"
   ]
  },
  {
   "cell_type": "code",
   "execution_count": 8,
   "metadata": {},
   "outputs": [],
   "source": [
    "pro_f = glob.glob('E:/Data/IMAGE/processed/*/*/*')\n",
    "im_t = pd.to_datetime([r[-15:-4] for r in pro_f], format='%Y%j%H%M')\n",
    "im_t = im_t.set_names('DateTime').to_frame()\n",
    "im_t['filename'] = pro_f"
   ]
  },
  {
   "cell_type": "code",
   "execution_count": 16,
   "metadata": {},
   "outputs": [
    {
     "data": {
      "text/plain": [
       "list"
      ]
     },
     "execution_count": 16,
     "metadata": {},
     "output_type": "execute_result"
    }
   ],
   "source": [
    "type(pro_f)"
   ]
  },
  {
   "cell_type": "code",
   "execution_count": 10,
   "metadata": {},
   "outputs": [],
   "source": [
    "tol = pd.Timedelta('2.5m')"
   ]
  },
  {
   "cell_type": "code",
   "execution_count": 12,
   "metadata": {},
   "outputs": [],
   "source": [
    "database = pd.merge_asof(left=im_t,right=omni,\n",
    "                         left_index=True,right_on='DateTime',\n",
    "                         direction='nearest',tolerance=tol, \n",
    "                         suffixes=['_dat','_omni'])\n",
    "\n",
    "database = pd.merge_asof(left=database, right=orb,\n",
    "                         left_index=True,right_on='DateTime',\n",
    "                         direction='nearest',tolerance=tol, \n",
    "                         suffixes=['_dat','_orb'])"
   ]
  },
  {
   "cell_type": "code",
   "execution_count": 13,
   "metadata": {},
   "outputs": [],
   "source": [
    "database.to_hdf(r'E:/Data/IMAGE/image_orb_omni.hdf',key='database',complevel=3)"
   ]
  }
 ],
 "metadata": {
  "kernelspec": {
   "display_name": "satdrag",
   "language": "python",
   "name": "python3"
  },
  "language_info": {
   "codemirror_mode": {
    "name": "ipython",
    "version": 3
   },
   "file_extension": ".py",
   "mimetype": "text/x-python",
   "name": "python",
   "nbconvert_exporter": "python",
   "pygments_lexer": "ipython3",
   "version": "3.10.16"
  }
 },
 "nbformat": 4,
 "nbformat_minor": 2
}
